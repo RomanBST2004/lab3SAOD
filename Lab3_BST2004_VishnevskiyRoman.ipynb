{
 "cells": [
  {
   "cell_type": "code",
   "execution_count": 29,
   "id": "645ebb1f",
   "metadata": {},
   "outputs": [],
   "source": [
    "# Необходим при замере скорости выполнения кода\n",
    "from datetime import datetime as t\n",
    "# Нужен для создания словаря в алг. Бойера-Мура\n",
    "from collections import defaultdict"
   ]
  },
  {
   "cell_type": "markdown",
   "id": "692cba26",
   "metadata": {},
   "source": [
    "### Задание №1\n",
    "Реализовать методы поиска подстроки в строке. Добавить возможность ввода строки и подстроки с клавиатуры. Предусмотреть возможность существования пробела. Реализовать возможность выбора опции чувствительности или нечувствительности к регистру. Оценить время работы каждого алгоритма поиска и сравнить его со временем работы стандартной функции поиска, используемой в выбранном языке программирования."
   ]
  },
  {
   "cell_type": "code",
   "execution_count": 4,
   "id": "1d93db80",
   "metadata": {},
   "outputs": [
    {
     "name": "stdout",
     "output_type": "stream",
     "text": [
      "Образ найден по индексу 1!\n",
      "Образ найден по индексу 16!\n",
      "Алгоритм Кнута-Морриса-Пратта: 0.007516 сек\n"
     ]
    }
   ],
   "source": [
    "# Алгоритм Кнута-Морриса-Пратта\n",
    "import time\n",
    "def KnuthMorrisPratt(text,pattern):\n",
    "    start_position = 0\n",
    "    match = 0\n",
    "    pattern = list(pattern) # таблица сдвигов\n",
    "    shifts = [1] * (len(pattern) + 1)\n",
    "    shift = 1\n",
    "    for i in range(len(pattern)):\n",
    "        while ((shift <= i) and (pattern[i] != pattern[i-shift])):\n",
    "            shift += shifts[i-shift] # сдвиг по максимальному префиксу \n",
    "        shifts[i+1] = shift  \n",
    "    for j in text: # ищем\n",
    "        while match == len(pattern) or match >= 0 and pattern[match] != j: #  дошли до длины образа или не нашли совпадение\n",
    "            start_position += shifts[match] # сдвигаем начальную позицию согласно таблице сдвигов\n",
    "            match -= shifts[match]\n",
    "        match += 1\n",
    "        if match == len(pattern):\n",
    "            print('Образ найден по индексу {}!'.format(start_position))\n",
    "    if match != len(pattern):\n",
    "        print('Nope!')\n",
    "\n",
    "text = 'acdababaabbaaaabcd'\n",
    "pattern = 'cd'\n",
    "t = time.perf_counter()\n",
    "KnuthMorrisPratt(text, pattern)\n",
    "print('Алгоритм Кнута-Морриса-Пратта: {0:.6f} сек'.format((time.perf_counter()-t)))"
   ]
  },
  {
   "cell_type": "code",
   "execution_count": 24,
   "id": "f1523667",
   "metadata": {
    "scrolled": true
   },
   "outputs": [
    {
     "name": "stdout",
     "output_type": "stream",
     "text": [
      "Учитывать регистр? Введите Y или N\n",
      "N\n",
      "Образ найден по индексу 5!\n",
      "Образ найден по индексу 5!\n",
      "Алгоритм Бойера-Мура 0.000223 сек\n"
     ]
    }
   ],
   "source": [
    "# Алгоритм Бойера-Мура\n",
    "def BoyerMoore(text, pattern):\n",
    "    lst = list(pattern)\n",
    "    sizePattern = len(lst)\n",
    "    dct = {}\n",
    "    for i in reversed(range(sizePattern-1)):\n",
    "        if dct.get(lst[i]) == None:\n",
    "            dct[lst[i]] = sizePattern - i - 1 \n",
    "        dct['*'] = sizePattern # любой символ, который будет найдет в тексте, смещение будет равное длине образа\n",
    "        \n",
    "        size = len(text)\n",
    "        if size >= sizePattern:\n",
    "            head = sizePattern - 1 # счетчик проверяемого символа в строке\n",
    "            while(head < size): # пока курсор не сдвинется за пределы текста\n",
    "                k = 0\n",
    "                j = 0\n",
    "                ifBreak = False\n",
    "                for j in range(sizePattern -1, -1,-1):\n",
    "                    if text[head -k] != lst[j]:\n",
    "                        if j== sizePattern - 1: # если несовпадающий символ последний в образе\n",
    "                            off = dct[text[head]] if dct.get(text[head], False) else dct['*'] \n",
    "                        else:\n",
    "                            off = dct[lst[j]] # если несовпадающий символ не последний в образе\n",
    "                        head += off # смещение счётчика строки\n",
    "                        ifBreak = True \n",
    "                        break\n",
    "                    k += 1 \n",
    "                if not ifBreak: # если дошли до начала образа - символы совпали\n",
    "                    print(f'Образ найден по индексу {head - k +1}!')\n",
    "                    break\n",
    "\n",
    "        else:\n",
    "            print('Pattern not found')\n",
    "text = 'Do androids dream of electric sheep?'\n",
    "pattern = 'droids'\n",
    "print (\"Учитывать регистр? Введите Y или N\")\n",
    "flag = input()\n",
    "if (flag == \"N\"):\n",
    "    text=text.lower()\n",
    "    pattern=pattern.lower()\n",
    "\n",
    "t = time.perf_counter()\n",
    "BoyerMoore(text, pattern)\n",
    "print('Алгоритм Бойера-Мура {0:.6f} сек'.format((time.perf_counter()-t)))"
   ]
  },
  {
   "cell_type": "code",
   "execution_count": 10,
   "id": "83cecff1",
   "metadata": {},
   "outputs": [
    {
     "name": "stdout",
     "output_type": "stream",
     "text": [
      "Встроенный алгоритм поиска подстроки: 0.000077 сек\n"
     ]
    }
   ],
   "source": [
    "text = 'Do androids dream of electric sheep?'\n",
    "pattern = 'droids'\n",
    "t = time.perf_counter()\n",
    "text.find(pattern)\n",
    "print('Встроенный алгоритм поиска подстроки: {0:.6f} сек'.format((time.perf_counter()-t)))"
   ]
  },
  {
   "cell_type": "markdown",
   "id": "4d956b4e",
   "metadata": {},
   "source": [
    "### Задание №2\n",
    "Написать программу, определяющую, является ли данное\n",
    "расположение «решаемым», то есть можно ли из него за конечное число\n",
    "шагов перейти к правильному. Если это возможно, то необходимо найти хотя\n",
    "бы одно решение - последовательность движений, после которой числа будут\n",
    "расположены в правильном порядке.\n",
    "#### Входные данные: массив чисел, представляющий собой расстановку в\n",
    "Порядке «слева направо, сверху вниз». Число 0 обозначает пустое поле.\n",
    "Например, массив [1, 2, 3, 4, 5, 6, 7, 8, 9, 10, 11, 12, 13, 14, 15, 0] представляет\n",
    "собой «решенную» позицию элементов.\n",
    "#### Выходные данные: если решения нет, то функция должна вернуть\n",
    "Пустой массив []. Если решение есть, то необходимо представить решение —\n",
    "для каждого шага записывается номер передвигаемого на данном шаге\n",
    "элемента. "
   ]
  },
  {
   "cell_type": "code",
   "execution_count": 1,
   "id": "73d9f445",
   "metadata": {
    "scrolled": true
   },
   "outputs": [
    {
     "name": "stdout",
     "output_type": "stream",
     "text": [
      "Начальная позиция:\n",
      "  1  2  3  4\n",
      "  5  6  7  8\n",
      "  9 10 12 15\n",
      " 13 14 11  0\n",
      "Шаги: [15, 12, 11, 15]\n"
     ]
    }
   ],
   "source": [
    "# ПЯТНАШКИ \n",
    "from queue import PriorityQueue\n",
    "class Position:\n",
    "    def __init__(self, position, start_distance,finish_distance):\n",
    "        self.position = position\n",
    "        self.start_distance = start_distance\n",
    "        self.finish_distance = finish_distance\n",
    "\n",
    "    def __str__(self):\n",
    "        return '\\n'.join((N*'{:3}').format(*[i%(N*N) for i in self.position[i:]]) for i in range(0, N*N, N))\n",
    "\n",
    "    def __lt__(self, other):\n",
    "        return self.start_distance+self.finish_distance < other.start_distance+other.finish_distance\n",
    "N = 4 \n",
    "def shifts(position): # сдвиги     \n",
    "    zeroPosition = position.index(0) # нахождение нуля в массиве\n",
    "    i, j = divmod(zeroPosition, N)\n",
    "    displacement = [] # Варианты сдвига нуля\n",
    "    if i > 0: displacement.append(-N) # up\n",
    "    if i < N - 1: displacement.append(N) # down\n",
    "    if j > 0: displacement.append(-1) # left\n",
    "    if j < N - 1: displacement.append(1) # right\n",
    "    for offset in displacement:\n",
    "        swap = zeroPosition + offset # индексы новых позиций нуля\n",
    "        yield tuple(position[swap] # новое поле после сдвига нуля\n",
    "        if x==zeroPosition\n",
    "        else position[zeroPosition]\n",
    "        if x==swap\n",
    "        else position[x]\n",
    "        for x in range(N*N))\n",
    "\n",
    "def parityOfPairs(state): # четность неправильных пар\n",
    "    countOfPairs = 0\n",
    "    for i in range(len(state)-1):\n",
    "        if state[i] > state[i+1]:\n",
    "            countOfPairs +=1\n",
    "    return countOfPairs % 2\n",
    "def Fifteen(startState):\n",
    "    terminalState = (1, 2, 3, 4, 5, 6, 7, 8, 9, 10, 11, 12, 13, 14, 15, 0) # если количество неправильных пар четное, то такая позиция нерешаема\n",
    "    if parityOfPairs(startState)==0:\n",
    "        print(\"Нет решений\")\n",
    "    else:\n",
    "        startState= tuple(startState)\n",
    "        tup = Position(startState, 0,0)\n",
    "        print('Начальная позиция:')\n",
    "        print(tup)\n",
    "        fieldStates= PriorityQueue()\n",
    "        fieldStates.put(tup)\n",
    "        closePoints = set([tup]) # множество посещенных/закрытых вершин\n",
    "        parents = {tup.position: None} # словарь в котором хранятся позиции и ее предыдущая позиция \n",
    "        while tup.position != terminalState:\n",
    "            tup = fieldStates.get()\n",
    "            for k in shifts(tup.position):\n",
    "                count= 0\n",
    "                if k not in closePoints: # если вершина еще не закрыта\n",
    "                    for m in range(len(k)):\n",
    "                        if k[m] != terminalState[m]:\n",
    "                            count+=1\n",
    "                    fieldStates.put(Position(k, tup.start_distance +1,tup.finish_distance+count))\n",
    "                    parents[k] = tup # добавляем в словарь значение предыдущей этой позиции\n",
    "                    closePoints.add(k) # закрываем вершину \n",
    "        steps = []\n",
    "        previous = tup\n",
    "        while tup.position != startState:\n",
    "            tup = parents[tup.position]\n",
    "            number = tup.position[previous.position.index(0)] # индекс нуля из текущего состояния и по этому индексу находится элемент, который сдвинули в предыдущем состоянии\n",
    "            steps.append(number)\n",
    "            previous = tup\n",
    "        steps.reverse() # инвертирование пути, чтобы путь лежал от начала до конца\n",
    "        print('Шаги:', steps)\n",
    "startState = [1, 2, 3, 4, 5, 6, 7, 8, 9,10,12,15,13,14,11,0] # https://15puzzle.zone/ru/\n",
    "Fifteen(startState)"
   ]
  }
 ],
 "metadata": {
  "kernelspec": {
   "display_name": "Python 3 (ipykernel)",
   "language": "python",
   "name": "python3"
  },
  "language_info": {
   "codemirror_mode": {
    "name": "ipython",
    "version": 3
   },
   "file_extension": ".py",
   "mimetype": "text/x-python",
   "name": "python",
   "nbconvert_exporter": "python",
   "pygments_lexer": "ipython3",
   "version": "3.9.7"
  }
 },
 "nbformat": 4,
 "nbformat_minor": 5
}
